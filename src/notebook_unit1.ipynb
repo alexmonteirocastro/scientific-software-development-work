{
 "cells": [
  {
   "cell_type": "markdown",
   "metadata": {},
   "source": [
    "**Sustainable Software Development, block course, March 2021**  \n",
    "*Scientific Software Center, Institute for Scientific Computing, Dr. Inga Ulusoy*\n",
    "\n",
    "# Analysis of the data\n",
    "\n",
    "Imagine you perform a \"measurement\" of some type and obtain \"scientific data\". You know what your data represents, but you have only a vague idea how different features in the data are connected, and what information you can extract from the data.\n",
    "\n",
    "You would start first with going through the data, making sure your data set is complete and that the result is reasonable. Imagine this already happened.\n",
    "\n",
    "In the next step, you would inspect your data more closely and try to identify structures. That is the step that we are focusing on in this unit.\n",
    "\n",
    "In the `data` folder, you will find several data files (`*.t` and `*.dat`). These are data files generated through some \"new approach\" that hasn't been used in your lab before. No previous analysis software exists, and you are going to establish a protocol for this \"new approach\" and \"publish your results\".\n",
    "\n",
    "The data can be grouped into two categories: \n",
    "1. data to be analyzed using statistical methods;\n",
    "2. data to be analyzed using numerical methods.\n",
    "\n",
    "In your hypothetical lab, you are an \"expert\" in one particular \"method\", and your co-worker is an \"expert\" in the other. Combined these two methods will lead to much more impactful results than if only one of you analyzed the data. Now, the task in this course is to be solved collaboratively with your team member working on one of the analysis approaches, and you working on the other. You will both implement functionality into the same piece of \"software\", but do so collaboratively through git.\n",
    "\n",
    "As you do not know yet which analysis is most meaningful for your data, and how to implement it, you will start with a jupyter notebook. You and your team member will work on the same notebook that will be part of a github repository for your project. This is the task for today. Discuss with your team members who will work on the statistical and who on the numerical analysis."
   ]
  },
  {
   "cell_type": "markdown",
   "metadata": {},
   "source": [
    "## Step 1\n",
    "\n",
    "Generate a github repository with the relevant files."
   ]
  },
  {
   "cell_type": "markdown",
   "metadata": {},
   "source": [
    "## Step 2\n",
    "\n",
    "Clone the repository to your local machine."
   ]
  },
  {
   "cell_type": "markdown",
   "metadata": {},
   "source": [
    "## Step 3\n",
    "\n",
    "Start working on task 1 for your analysis approach. "
   ]
  },
  {
   "cell_type": "markdown",
   "metadata": {},
   "source": [
    "## Step 4\n",
    "\n",
    "Create your own branch of the repository and commit your changes to your branch; push to the remote repository."
   ]
  },
  {
   "cell_type": "markdown",
   "metadata": {},
   "source": [
    "## Step 5\n",
    "\n",
    "Open a `pull request` so your team member can review your implementation. Likewise, your team member will ask you to review theirs."
   ]
  },
  {
   "cell_type": "markdown",
   "metadata": {},
   "source": [
    "## Step 6\n",
    "\n",
    "Merge the changes in your branch into `main`. Resolve conflicts."
   ]
  },
  {
   "cell_type": "markdown",
   "metadata": {},
   "source": [
    "## Step 7\n",
    "\n",
    "Repeat working on task; committing and pushing to your previously generated branch or a new branch; open a pull request; merge with main; until you have finished all the tasks in your analysis approach. Delete obsolete branches."
   ]
  },
  {
   "cell_type": "markdown",
   "metadata": {},
   "source": [
    "# Start of the analysis notebook\n",
    "\n",
    "**Author : Your Name**  \n",
    "*Date : The date you started working on this*  \n",
    "*Affiliation : The entity under whose name you are working on this*  \n",
    "\n",
    "Place the required modules in the top, followed by required constants and global functions."
   ]
  },
  {
   "cell_type": "code",
   "execution_count": 1,
   "metadata": {},
   "outputs": [],
   "source": [
    "# required modules\n",
    "import numpy as np\n",
    "import pandas as pd\n",
    "import matplotlib.pyplot as plt\n",
    "%matplotlib inline\n",
    "import seaborn as sn"
   ]
  },
  {
   "cell_type": "code",
   "execution_count": 2,
   "metadata": {},
   "outputs": [],
   "source": [
    "# constants and global functions\n",
    "path_to_data = '../data/'"
   ]
  },
  {
   "cell_type": "code",
   "execution_count": 3,
   "metadata": {},
   "outputs": [],
   "source": [
    "# reading of the data files\n",
    "def read_in_df(filedir, filename):\n",
    "    print(f\"Reading from file {filedir + filename} - pandas\")\n",
    "    data = pd.read_csv(filedir + filename, sep=r'\\s+')\n",
    "    return data"
   ]
  },
  {
   "cell_type": "markdown",
   "metadata": {},
   "source": [
    "# Statistical analysis\n",
    "\n",
    "Find correlations in the data sets. Analyse the data statistically and plot your results.  \n",
    "\n",
    "Here we would want to do everything with pandas and leave the data in a dataframe. The files that are relevant to you are `expect.t`, `npop.t` and `table.dat`."
   ]
  },
  {
   "cell_type": "markdown",
   "metadata": {},
   "source": [
    "### Task 1: Read in expec.t and plot relevant data"
   ]
  },
  {
   "cell_type": "code",
   "execution_count": 6,
   "metadata": {},
   "outputs": [
    {
     "name": "stdout",
     "output_type": "stream",
     "text": [
      "Reading from file ../data/expec.t - pandas\n"
     ]
    },
    {
     "data": {
      "text/html": [
       "<div>\n",
       "<style scoped>\n",
       "    .dataframe tbody tr th:only-of-type {\n",
       "        vertical-align: middle;\n",
       "    }\n",
       "\n",
       "    .dataframe tbody tr th {\n",
       "        vertical-align: top;\n",
       "    }\n",
       "\n",
       "    .dataframe thead th {\n",
       "        text-align: right;\n",
       "    }\n",
       "</style>\n",
       "<table border=\"1\" class=\"dataframe\">\n",
       "  <thead>\n",
       "    <tr style=\"text-align: right;\">\n",
       "      <th></th>\n",
       "      <th>time</th>\n",
       "      <th>norm</th>\n",
       "      <th>&lt;x&gt;</th>\n",
       "      <th>&lt;y&gt;</th>\n",
       "      <th>&lt;z&gt;</th>\n",
       "      <th>&lt;H&gt;</th>\n",
       "    </tr>\n",
       "  </thead>\n",
       "  <tbody>\n",
       "    <tr>\n",
       "      <th>0</th>\n",
       "      <td>0.0</td>\n",
       "      <td>1.0</td>\n",
       "      <td>0.0</td>\n",
       "      <td>0.0</td>\n",
       "      <td>-2.19632</td>\n",
       "      <td>0.0</td>\n",
       "    </tr>\n",
       "    <tr>\n",
       "      <th>1</th>\n",
       "      <td>0.1</td>\n",
       "      <td>1.0</td>\n",
       "      <td>0.0</td>\n",
       "      <td>0.0</td>\n",
       "      <td>-2.19632</td>\n",
       "      <td>0.0</td>\n",
       "    </tr>\n",
       "    <tr>\n",
       "      <th>2</th>\n",
       "      <td>0.2</td>\n",
       "      <td>1.0</td>\n",
       "      <td>-0.0</td>\n",
       "      <td>0.0</td>\n",
       "      <td>-2.19632</td>\n",
       "      <td>0.0</td>\n",
       "    </tr>\n",
       "    <tr>\n",
       "      <th>3</th>\n",
       "      <td>0.3</td>\n",
       "      <td>1.0</td>\n",
       "      <td>-0.0</td>\n",
       "      <td>0.0</td>\n",
       "      <td>-2.19632</td>\n",
       "      <td>0.0</td>\n",
       "    </tr>\n",
       "    <tr>\n",
       "      <th>4</th>\n",
       "      <td>0.4</td>\n",
       "      <td>1.0</td>\n",
       "      <td>-0.0</td>\n",
       "      <td>0.0</td>\n",
       "      <td>-2.19632</td>\n",
       "      <td>0.0</td>\n",
       "    </tr>\n",
       "    <tr>\n",
       "      <th>5</th>\n",
       "      <td>0.5</td>\n",
       "      <td>1.0</td>\n",
       "      <td>-0.0</td>\n",
       "      <td>0.0</td>\n",
       "      <td>-2.19632</td>\n",
       "      <td>0.0</td>\n",
       "    </tr>\n",
       "    <tr>\n",
       "      <th>6</th>\n",
       "      <td>0.6</td>\n",
       "      <td>1.0</td>\n",
       "      <td>0.0</td>\n",
       "      <td>-0.0</td>\n",
       "      <td>-2.19632</td>\n",
       "      <td>0.0</td>\n",
       "    </tr>\n",
       "    <tr>\n",
       "      <th>7</th>\n",
       "      <td>0.7</td>\n",
       "      <td>1.0</td>\n",
       "      <td>-0.0</td>\n",
       "      <td>-0.0</td>\n",
       "      <td>-2.19632</td>\n",
       "      <td>0.0</td>\n",
       "    </tr>\n",
       "    <tr>\n",
       "      <th>8</th>\n",
       "      <td>0.8</td>\n",
       "      <td>1.0</td>\n",
       "      <td>-0.0</td>\n",
       "      <td>-0.0</td>\n",
       "      <td>-2.19632</td>\n",
       "      <td>0.0</td>\n",
       "    </tr>\n",
       "    <tr>\n",
       "      <th>9</th>\n",
       "      <td>0.9</td>\n",
       "      <td>1.0</td>\n",
       "      <td>-0.0</td>\n",
       "      <td>-0.0</td>\n",
       "      <td>-2.19632</td>\n",
       "      <td>0.0</td>\n",
       "    </tr>\n",
       "  </tbody>\n",
       "</table>\n",
       "</div>"
      ],
      "text/plain": [
       "   time  norm  <x>  <y>      <z>  <H>\n",
       "0   0.0   1.0  0.0  0.0 -2.19632  0.0\n",
       "1   0.1   1.0  0.0  0.0 -2.19632  0.0\n",
       "2   0.2   1.0 -0.0  0.0 -2.19632  0.0\n",
       "3   0.3   1.0 -0.0  0.0 -2.19632  0.0\n",
       "4   0.4   1.0 -0.0  0.0 -2.19632  0.0\n",
       "5   0.5   1.0 -0.0  0.0 -2.19632  0.0\n",
       "6   0.6   1.0  0.0 -0.0 -2.19632  0.0\n",
       "7   0.7   1.0 -0.0 -0.0 -2.19632  0.0\n",
       "8   0.8   1.0 -0.0 -0.0 -2.19632  0.0\n",
       "9   0.9   1.0 -0.0 -0.0 -2.19632  0.0"
      ]
     },
     "execution_count": 6,
     "metadata": {},
     "output_type": "execute_result"
    }
   ],
   "source": [
    "# read and plot expec.t\n",
    "df_expec = read_in_df(path_to_data, 'expec.t')\n",
    "df_expec.head(10)"
   ]
  },
  {
   "cell_type": "markdown",
   "metadata": {},
   "source": [
    "We can discard the entries norm, \\<x>, and \\<y> as these are mostly constant."
   ]
  },
  {
   "cell_type": "code",
   "execution_count": 7,
   "metadata": {},
   "outputs": [
    {
     "data": {
      "text/html": [
       "<div>\n",
       "<style scoped>\n",
       "    .dataframe tbody tr th:only-of-type {\n",
       "        vertical-align: middle;\n",
       "    }\n",
       "\n",
       "    .dataframe tbody tr th {\n",
       "        vertical-align: top;\n",
       "    }\n",
       "\n",
       "    .dataframe thead th {\n",
       "        text-align: right;\n",
       "    }\n",
       "</style>\n",
       "<table border=\"1\" class=\"dataframe\">\n",
       "  <thead>\n",
       "    <tr style=\"text-align: right;\">\n",
       "      <th></th>\n",
       "      <th>time</th>\n",
       "      <th>&lt;z&gt;</th>\n",
       "      <th>&lt;H&gt;</th>\n",
       "    </tr>\n",
       "  </thead>\n",
       "  <tbody>\n",
       "    <tr>\n",
       "      <th>0</th>\n",
       "      <td>0.0</td>\n",
       "      <td>-2.19632</td>\n",
       "      <td>0.0</td>\n",
       "    </tr>\n",
       "    <tr>\n",
       "      <th>1</th>\n",
       "      <td>0.1</td>\n",
       "      <td>-2.19632</td>\n",
       "      <td>0.0</td>\n",
       "    </tr>\n",
       "    <tr>\n",
       "      <th>2</th>\n",
       "      <td>0.2</td>\n",
       "      <td>-2.19632</td>\n",
       "      <td>0.0</td>\n",
       "    </tr>\n",
       "    <tr>\n",
       "      <th>3</th>\n",
       "      <td>0.3</td>\n",
       "      <td>-2.19632</td>\n",
       "      <td>0.0</td>\n",
       "    </tr>\n",
       "    <tr>\n",
       "      <th>4</th>\n",
       "      <td>0.4</td>\n",
       "      <td>-2.19632</td>\n",
       "      <td>0.0</td>\n",
       "    </tr>\n",
       "    <tr>\n",
       "      <th>5</th>\n",
       "      <td>0.5</td>\n",
       "      <td>-2.19632</td>\n",
       "      <td>0.0</td>\n",
       "    </tr>\n",
       "    <tr>\n",
       "      <th>6</th>\n",
       "      <td>0.6</td>\n",
       "      <td>-2.19632</td>\n",
       "      <td>0.0</td>\n",
       "    </tr>\n",
       "    <tr>\n",
       "      <th>7</th>\n",
       "      <td>0.7</td>\n",
       "      <td>-2.19632</td>\n",
       "      <td>0.0</td>\n",
       "    </tr>\n",
       "    <tr>\n",
       "      <th>8</th>\n",
       "      <td>0.8</td>\n",
       "      <td>-2.19632</td>\n",
       "      <td>0.0</td>\n",
       "    </tr>\n",
       "    <tr>\n",
       "      <th>9</th>\n",
       "      <td>0.9</td>\n",
       "      <td>-2.19632</td>\n",
       "      <td>0.0</td>\n",
       "    </tr>\n",
       "  </tbody>\n",
       "</table>\n",
       "</div>"
      ],
      "text/plain": [
       "   time      <z>  <H>\n",
       "0   0.0 -2.19632  0.0\n",
       "1   0.1 -2.19632  0.0\n",
       "2   0.2 -2.19632  0.0\n",
       "3   0.3 -2.19632  0.0\n",
       "4   0.4 -2.19632  0.0\n",
       "5   0.5 -2.19632  0.0\n",
       "6   0.6 -2.19632  0.0\n",
       "7   0.7 -2.19632  0.0\n",
       "8   0.8 -2.19632  0.0\n",
       "9   0.9 -2.19632  0.0"
      ]
     },
     "execution_count": 7,
     "metadata": {},
     "output_type": "execute_result"
    }
   ],
   "source": [
    "# eliminate columns based on the variance: if the variance of the values\n",
    "# in a column is below a given threshold, that column is discarded\n",
    "low_variance_cols = []\n",
    "low_variance_threshold = 1e-6\n",
    "\n",
    "for col in df_expec.columns:\n",
    "    column = df_expec[col]\n",
    "    if (column.var() < low_variance_threshold):\n",
    "        low_variance_cols.append(column.name)\n",
    "        \n",
    "df_expec_no_low_variance_vals = df_expec.drop(columns=low_variance_cols)\n",
    "df_expec_no_low_variance_vals.head(10)"
   ]
  },
  {
   "cell_type": "markdown",
   "metadata": {},
   "source": [
    "### Task 2: Create plots of the relevant data and save as .pdf."
   ]
  },
  {
   "cell_type": "code",
   "execution_count": 8,
   "metadata": {},
   "outputs": [
    {
     "data": {
      "image/png": "[encoded data removed]",
      "text/plain": [
       "<Figure size 360x360 with 1 Axes>"
      ]
     },
     "metadata": {
      "needs_background": "light"
     },
     "output_type": "display_data"
    },
    {
     "data": {
      "text/plain": [
       "<Figure size 432x288 with 0 Axes>"
      ]
     },
     "metadata": {},
     "output_type": "display_data"
    }
   ],
   "source": [
    "# create plots\n",
    "sn.relplot(data=df_expec, kind='line', x='time', y='<z>')\n",
    "plt.show()\n",
    "plt.savefig('expec_t_plot.pdf')  "
   ]
  },
  {
   "cell_type": "markdown",
   "metadata": {},
   "source": [
    "### Task 3: Read in file `npop.t` and analyze correlations in the data"
   ]
  },
  {
   "cell_type": "code",
   "execution_count": 9,
   "metadata": {},
   "outputs": [
    {
     "name": "stdout",
     "output_type": "stream",
     "text": [
      "Reading from file ../data/npop.t - pandas\n"
     ]
    },
    {
     "data": {
      "text/html": [
       "<div>\n",
       "<style scoped>\n",
       "    .dataframe tbody tr th:only-of-type {\n",
       "        vertical-align: middle;\n",
       "    }\n",
       "\n",
       "    .dataframe tbody tr th {\n",
       "        vertical-align: top;\n",
       "    }\n",
       "\n",
       "    .dataframe thead th {\n",
       "        text-align: right;\n",
       "    }\n",
       "</style>\n",
       "<table border=\"1\" class=\"dataframe\">\n",
       "  <thead>\n",
       "    <tr style=\"text-align: right;\">\n",
       "      <th></th>\n",
       "      <th>time</th>\n",
       "      <th>MO1</th>\n",
       "      <th>MO2</th>\n",
       "      <th>MO3</th>\n",
       "      <th>MO4</th>\n",
       "      <th>MO5</th>\n",
       "      <th>MO6</th>\n",
       "      <th>MO7</th>\n",
       "      <th>MO8</th>\n",
       "      <th>MO9</th>\n",
       "      <th>...</th>\n",
       "      <th>MO29</th>\n",
       "      <th>MO30</th>\n",
       "      <th>MO31</th>\n",
       "      <th>MO32</th>\n",
       "      <th>MO33</th>\n",
       "      <th>MO34</th>\n",
       "      <th>MO35</th>\n",
       "      <th>MO36</th>\n",
       "      <th>MO37</th>\n",
       "      <th>MO38</th>\n",
       "    </tr>\n",
       "  </thead>\n",
       "  <tbody>\n",
       "    <tr>\n",
       "      <th>0</th>\n",
       "      <td>0.0</td>\n",
       "      <td>0.999974</td>\n",
       "      <td>0.999892</td>\n",
       "      <td>0.976819</td>\n",
       "      <td>0.97633</td>\n",
       "      <td>0.000708</td>\n",
       "      <td>0.005711</td>\n",
       "      <td>0.000158</td>\n",
       "      <td>0.00092</td>\n",
       "      <td>0.000158</td>\n",
       "      <td>...</td>\n",
       "      <td>0.000815</td>\n",
       "      <td>0.000514</td>\n",
       "      <td>0.004893</td>\n",
       "      <td>0.001388</td>\n",
       "      <td>0.000469</td>\n",
       "      <td>0.000193</td>\n",
       "      <td>0.000469</td>\n",
       "      <td>0.000193</td>\n",
       "      <td>0.000401</td>\n",
       "      <td>0.000128</td>\n",
       "    </tr>\n",
       "    <tr>\n",
       "      <th>1</th>\n",
       "      <td>0.1</td>\n",
       "      <td>0.999974</td>\n",
       "      <td>0.999892</td>\n",
       "      <td>0.976819</td>\n",
       "      <td>0.97633</td>\n",
       "      <td>0.000708</td>\n",
       "      <td>0.005711</td>\n",
       "      <td>0.000158</td>\n",
       "      <td>0.00092</td>\n",
       "      <td>0.000158</td>\n",
       "      <td>...</td>\n",
       "      <td>0.000815</td>\n",
       "      <td>0.000514</td>\n",
       "      <td>0.004893</td>\n",
       "      <td>0.001388</td>\n",
       "      <td>0.000469</td>\n",
       "      <td>0.000193</td>\n",
       "      <td>0.000469</td>\n",
       "      <td>0.000193</td>\n",
       "      <td>0.000401</td>\n",
       "      <td>0.000128</td>\n",
       "    </tr>\n",
       "    <tr>\n",
       "      <th>2</th>\n",
       "      <td>0.2</td>\n",
       "      <td>0.999974</td>\n",
       "      <td>0.999892</td>\n",
       "      <td>0.976819</td>\n",
       "      <td>0.97633</td>\n",
       "      <td>0.000708</td>\n",
       "      <td>0.005711</td>\n",
       "      <td>0.000158</td>\n",
       "      <td>0.00092</td>\n",
       "      <td>0.000158</td>\n",
       "      <td>...</td>\n",
       "      <td>0.000815</td>\n",
       "      <td>0.000514</td>\n",
       "      <td>0.004893</td>\n",
       "      <td>0.001388</td>\n",
       "      <td>0.000469</td>\n",
       "      <td>0.000193</td>\n",
       "      <td>0.000469</td>\n",
       "      <td>0.000193</td>\n",
       "      <td>0.000401</td>\n",
       "      <td>0.000128</td>\n",
       "    </tr>\n",
       "    <tr>\n",
       "      <th>3</th>\n",
       "      <td>0.3</td>\n",
       "      <td>0.999974</td>\n",
       "      <td>0.999892</td>\n",
       "      <td>0.976819</td>\n",
       "      <td>0.97633</td>\n",
       "      <td>0.000708</td>\n",
       "      <td>0.005711</td>\n",
       "      <td>0.000158</td>\n",
       "      <td>0.00092</td>\n",
       "      <td>0.000158</td>\n",
       "      <td>...</td>\n",
       "      <td>0.000815</td>\n",
       "      <td>0.000514</td>\n",
       "      <td>0.004893</td>\n",
       "      <td>0.001388</td>\n",
       "      <td>0.000469</td>\n",
       "      <td>0.000193</td>\n",
       "      <td>0.000469</td>\n",
       "      <td>0.000193</td>\n",
       "      <td>0.000401</td>\n",
       "      <td>0.000128</td>\n",
       "    </tr>\n",
       "    <tr>\n",
       "      <th>4</th>\n",
       "      <td>0.4</td>\n",
       "      <td>0.999974</td>\n",
       "      <td>0.999892</td>\n",
       "      <td>0.976819</td>\n",
       "      <td>0.97633</td>\n",
       "      <td>0.000708</td>\n",
       "      <td>0.005711</td>\n",
       "      <td>0.000158</td>\n",
       "      <td>0.00092</td>\n",
       "      <td>0.000158</td>\n",
       "      <td>...</td>\n",
       "      <td>0.000815</td>\n",
       "      <td>0.000514</td>\n",
       "      <td>0.004893</td>\n",
       "      <td>0.001388</td>\n",
       "      <td>0.000469</td>\n",
       "      <td>0.000193</td>\n",
       "      <td>0.000469</td>\n",
       "      <td>0.000193</td>\n",
       "      <td>0.000401</td>\n",
       "      <td>0.000128</td>\n",
       "    </tr>\n",
       "    <tr>\n",
       "      <th>5</th>\n",
       "      <td>0.5</td>\n",
       "      <td>0.999974</td>\n",
       "      <td>0.999892</td>\n",
       "      <td>0.976819</td>\n",
       "      <td>0.97633</td>\n",
       "      <td>0.000708</td>\n",
       "      <td>0.005711</td>\n",
       "      <td>0.000158</td>\n",
       "      <td>0.00092</td>\n",
       "      <td>0.000158</td>\n",
       "      <td>...</td>\n",
       "      <td>0.000815</td>\n",
       "      <td>0.000514</td>\n",
       "      <td>0.004893</td>\n",
       "      <td>0.001388</td>\n",
       "      <td>0.000469</td>\n",
       "      <td>0.000193</td>\n",
       "      <td>0.000469</td>\n",
       "      <td>0.000193</td>\n",
       "      <td>0.000401</td>\n",
       "      <td>0.000128</td>\n",
       "    </tr>\n",
       "    <tr>\n",
       "      <th>6</th>\n",
       "      <td>0.6</td>\n",
       "      <td>0.999974</td>\n",
       "      <td>0.999892</td>\n",
       "      <td>0.976819</td>\n",
       "      <td>0.97633</td>\n",
       "      <td>0.000708</td>\n",
       "      <td>0.005711</td>\n",
       "      <td>0.000158</td>\n",
       "      <td>0.00092</td>\n",
       "      <td>0.000158</td>\n",
       "      <td>...</td>\n",
       "      <td>0.000815</td>\n",
       "      <td>0.000514</td>\n",
       "      <td>0.004893</td>\n",
       "      <td>0.001388</td>\n",
       "      <td>0.000469</td>\n",
       "      <td>0.000193</td>\n",
       "      <td>0.000469</td>\n",
       "      <td>0.000193</td>\n",
       "      <td>0.000401</td>\n",
       "      <td>0.000128</td>\n",
       "    </tr>\n",
       "    <tr>\n",
       "      <th>7</th>\n",
       "      <td>0.7</td>\n",
       "      <td>0.999974</td>\n",
       "      <td>0.999892</td>\n",
       "      <td>0.976819</td>\n",
       "      <td>0.97633</td>\n",
       "      <td>0.000708</td>\n",
       "      <td>0.005711</td>\n",
       "      <td>0.000158</td>\n",
       "      <td>0.00092</td>\n",
       "      <td>0.000158</td>\n",
       "      <td>...</td>\n",
       "      <td>0.000815</td>\n",
       "      <td>0.000514</td>\n",
       "      <td>0.004893</td>\n",
       "      <td>0.001388</td>\n",
       "      <td>0.000469</td>\n",
       "      <td>0.000193</td>\n",
       "      <td>0.000469</td>\n",
       "      <td>0.000193</td>\n",
       "      <td>0.000401</td>\n",
       "      <td>0.000128</td>\n",
       "    </tr>\n",
       "    <tr>\n",
       "      <th>8</th>\n",
       "      <td>0.8</td>\n",
       "      <td>0.999974</td>\n",
       "      <td>0.999892</td>\n",
       "      <td>0.976819</td>\n",
       "      <td>0.97633</td>\n",
       "      <td>0.000708</td>\n",
       "      <td>0.005711</td>\n",
       "      <td>0.000158</td>\n",
       "      <td>0.00092</td>\n",
       "      <td>0.000158</td>\n",
       "      <td>...</td>\n",
       "      <td>0.000815</td>\n",
       "      <td>0.000514</td>\n",
       "      <td>0.004893</td>\n",
       "      <td>0.001388</td>\n",
       "      <td>0.000469</td>\n",
       "      <td>0.000193</td>\n",
       "      <td>0.000469</td>\n",
       "      <td>0.000193</td>\n",
       "      <td>0.000401</td>\n",
       "      <td>0.000128</td>\n",
       "    </tr>\n",
       "    <tr>\n",
       "      <th>9</th>\n",
       "      <td>0.9</td>\n",
       "      <td>0.999974</td>\n",
       "      <td>0.999892</td>\n",
       "      <td>0.976819</td>\n",
       "      <td>0.97633</td>\n",
       "      <td>0.000708</td>\n",
       "      <td>0.005711</td>\n",
       "      <td>0.000158</td>\n",
       "      <td>0.00092</td>\n",
       "      <td>0.000158</td>\n",
       "      <td>...</td>\n",
       "      <td>0.000815</td>\n",
       "      <td>0.000514</td>\n",
       "      <td>0.004893</td>\n",
       "      <td>0.001388</td>\n",
       "      <td>0.000469</td>\n",
       "      <td>0.000193</td>\n",
       "      <td>0.000469</td>\n",
       "      <td>0.000193</td>\n",
       "      <td>0.000401</td>\n",
       "      <td>0.000128</td>\n",
       "    </tr>\n",
       "  </tbody>\n",
       "</table>\n",
       "<p>10 rows × 39 columns</p>\n",
       "</div>"
      ],
      "text/plain": [
       "   time       MO1       MO2       MO3      MO4       MO5       MO6       MO7  \\\n",
       "0   0.0  0.999974  0.999892  0.976819  0.97633  0.000708  0.005711  0.000158   \n",
       "1   0.1  0.999974  0.999892  0.976819  0.97633  0.000708  0.005711  0.000158   \n",
       "2   0.2  0.999974  0.999892  0.976819  0.97633  0.000708  0.005711  0.000158   \n",
       "3   0.3  0.999974  0.999892  0.976819  0.97633  0.000708  0.005711  0.000158   \n",
       "4   0.4  0.999974  0.999892  0.976819  0.97633  0.000708  0.005711  0.000158   \n",
       "5   0.5  0.999974  0.999892  0.976819  0.97633  0.000708  0.005711  0.000158   \n",
       "6   0.6  0.999974  0.999892  0.976819  0.97633  0.000708  0.005711  0.000158   \n",
       "7   0.7  0.999974  0.999892  0.976819  0.97633  0.000708  0.005711  0.000158   \n",
       "8   0.8  0.999974  0.999892  0.976819  0.97633  0.000708  0.005711  0.000158   \n",
       "9   0.9  0.999974  0.999892  0.976819  0.97633  0.000708  0.005711  0.000158   \n",
       "\n",
       "       MO8       MO9  ...      MO29      MO30      MO31      MO32      MO33  \\\n",
       "0  0.00092  0.000158  ...  0.000815  0.000514  0.004893  0.001388  0.000469   \n",
       "1  0.00092  0.000158  ...  0.000815  0.000514  0.004893  0.001388  0.000469   \n",
       "2  0.00092  0.000158  ...  0.000815  0.000514  0.004893  0.001388  0.000469   \n",
       "3  0.00092  0.000158  ...  0.000815  0.000514  0.004893  0.001388  0.000469   \n",
       "4  0.00092  0.000158  ...  0.000815  0.000514  0.004893  0.001388  0.000469   \n",
       "5  0.00092  0.000158  ...  0.000815  0.000514  0.004893  0.001388  0.000469   \n",
       "6  0.00092  0.000158  ...  0.000815  0.000514  0.004893  0.001388  0.000469   \n",
       "7  0.00092  0.000158  ...  0.000815  0.000514  0.004893  0.001388  0.000469   \n",
       "8  0.00092  0.000158  ...  0.000815  0.000514  0.004893  0.001388  0.000469   \n",
       "9  0.00092  0.000158  ...  0.000815  0.000514  0.004893  0.001388  0.000469   \n",
       "\n",
       "       MO34      MO35      MO36      MO37      MO38  \n",
       "0  0.000193  0.000469  0.000193  0.000401  0.000128  \n",
       "1  0.000193  0.000469  0.000193  0.000401  0.000128  \n",
       "2  0.000193  0.000469  0.000193  0.000401  0.000128  \n",
       "3  0.000193  0.000469  0.000193  0.000401  0.000128  \n",
       "4  0.000193  0.000469  0.000193  0.000401  0.000128  \n",
       "5  0.000193  0.000469  0.000193  0.000401  0.000128  \n",
       "6  0.000193  0.000469  0.000193  0.000401  0.000128  \n",
       "7  0.000193  0.000469  0.000193  0.000401  0.000128  \n",
       "8  0.000193  0.000469  0.000193  0.000401  0.000128  \n",
       "9  0.000193  0.000469  0.000193  0.000401  0.000128  \n",
       "\n",
       "[10 rows x 39 columns]"
      ]
     },
     "execution_count": 9,
     "metadata": {},
     "output_type": "execute_result"
    }
   ],
   "source": [
    "# read in npop.t\n",
    "df_npop = read_in_df(path_to_data, 'npop.t')\n",
    "df_npop.head(10)"
   ]
  },
  {
   "cell_type": "code",
   "execution_count": 15,
   "metadata": {},
   "outputs": [
    {
     "data": {
      "text/html": [
       "<div>\n",
       "<style scoped>\n",
       "    .dataframe tbody tr th:only-of-type {\n",
       "        vertical-align: middle;\n",
       "    }\n",
       "\n",
       "    .dataframe tbody tr th {\n",
       "        vertical-align: top;\n",
       "    }\n",
       "\n",
       "    .dataframe thead th {\n",
       "        text-align: right;\n",
       "    }\n",
       "</style>\n",
       "<table border=\"1\" class=\"dataframe\">\n",
       "  <thead>\n",
       "    <tr style=\"text-align: right;\">\n",
       "      <th></th>\n",
       "      <th>time</th>\n",
       "      <th>MO3</th>\n",
       "      <th>MO4</th>\n",
       "      <th>MO5</th>\n",
       "      <th>MO6</th>\n",
       "      <th>MO11</th>\n",
       "      <th>MO12</th>\n",
       "      <th>MO13</th>\n",
       "      <th>MO14</th>\n",
       "      <th>MO19</th>\n",
       "      <th>MO20</th>\n",
       "    </tr>\n",
       "  </thead>\n",
       "  <tbody>\n",
       "    <tr>\n",
       "      <th>0</th>\n",
       "      <td>0.0</td>\n",
       "      <td>0.976819</td>\n",
       "      <td>0.97633</td>\n",
       "      <td>0.000708</td>\n",
       "      <td>0.005711</td>\n",
       "      <td>0.004568</td>\n",
       "      <td>0.006659</td>\n",
       "      <td>0.000114</td>\n",
       "      <td>0.000107</td>\n",
       "      <td>0.006705</td>\n",
       "      <td>0.004241</td>\n",
       "    </tr>\n",
       "    <tr>\n",
       "      <th>1</th>\n",
       "      <td>0.1</td>\n",
       "      <td>0.976819</td>\n",
       "      <td>0.97633</td>\n",
       "      <td>0.000708</td>\n",
       "      <td>0.005711</td>\n",
       "      <td>0.004568</td>\n",
       "      <td>0.006659</td>\n",
       "      <td>0.000114</td>\n",
       "      <td>0.000107</td>\n",
       "      <td>0.006705</td>\n",
       "      <td>0.004241</td>\n",
       "    </tr>\n",
       "    <tr>\n",
       "      <th>2</th>\n",
       "      <td>0.2</td>\n",
       "      <td>0.976819</td>\n",
       "      <td>0.97633</td>\n",
       "      <td>0.000708</td>\n",
       "      <td>0.005711</td>\n",
       "      <td>0.004568</td>\n",
       "      <td>0.006659</td>\n",
       "      <td>0.000114</td>\n",
       "      <td>0.000107</td>\n",
       "      <td>0.006705</td>\n",
       "      <td>0.004241</td>\n",
       "    </tr>\n",
       "    <tr>\n",
       "      <th>3</th>\n",
       "      <td>0.3</td>\n",
       "      <td>0.976819</td>\n",
       "      <td>0.97633</td>\n",
       "      <td>0.000708</td>\n",
       "      <td>0.005711</td>\n",
       "      <td>0.004568</td>\n",
       "      <td>0.006659</td>\n",
       "      <td>0.000114</td>\n",
       "      <td>0.000107</td>\n",
       "      <td>0.006705</td>\n",
       "      <td>0.004241</td>\n",
       "    </tr>\n",
       "    <tr>\n",
       "      <th>4</th>\n",
       "      <td>0.4</td>\n",
       "      <td>0.976819</td>\n",
       "      <td>0.97633</td>\n",
       "      <td>0.000708</td>\n",
       "      <td>0.005711</td>\n",
       "      <td>0.004568</td>\n",
       "      <td>0.006659</td>\n",
       "      <td>0.000114</td>\n",
       "      <td>0.000107</td>\n",
       "      <td>0.006705</td>\n",
       "      <td>0.004241</td>\n",
       "    </tr>\n",
       "    <tr>\n",
       "      <th>5</th>\n",
       "      <td>0.5</td>\n",
       "      <td>0.976819</td>\n",
       "      <td>0.97633</td>\n",
       "      <td>0.000708</td>\n",
       "      <td>0.005711</td>\n",
       "      <td>0.004568</td>\n",
       "      <td>0.006659</td>\n",
       "      <td>0.000114</td>\n",
       "      <td>0.000107</td>\n",
       "      <td>0.006705</td>\n",
       "      <td>0.004241</td>\n",
       "    </tr>\n",
       "    <tr>\n",
       "      <th>6</th>\n",
       "      <td>0.6</td>\n",
       "      <td>0.976819</td>\n",
       "      <td>0.97633</td>\n",
       "      <td>0.000708</td>\n",
       "      <td>0.005711</td>\n",
       "      <td>0.004568</td>\n",
       "      <td>0.006659</td>\n",
       "      <td>0.000114</td>\n",
       "      <td>0.000107</td>\n",
       "      <td>0.006705</td>\n",
       "      <td>0.004241</td>\n",
       "    </tr>\n",
       "    <tr>\n",
       "      <th>7</th>\n",
       "      <td>0.7</td>\n",
       "      <td>0.976819</td>\n",
       "      <td>0.97633</td>\n",
       "      <td>0.000708</td>\n",
       "      <td>0.005711</td>\n",
       "      <td>0.004568</td>\n",
       "      <td>0.006659</td>\n",
       "      <td>0.000114</td>\n",
       "      <td>0.000107</td>\n",
       "      <td>0.006705</td>\n",
       "      <td>0.004241</td>\n",
       "    </tr>\n",
       "    <tr>\n",
       "      <th>8</th>\n",
       "      <td>0.8</td>\n",
       "      <td>0.976819</td>\n",
       "      <td>0.97633</td>\n",
       "      <td>0.000708</td>\n",
       "      <td>0.005711</td>\n",
       "      <td>0.004568</td>\n",
       "      <td>0.006659</td>\n",
       "      <td>0.000114</td>\n",
       "      <td>0.000107</td>\n",
       "      <td>0.006705</td>\n",
       "      <td>0.004241</td>\n",
       "    </tr>\n",
       "    <tr>\n",
       "      <th>9</th>\n",
       "      <td>0.9</td>\n",
       "      <td>0.976819</td>\n",
       "      <td>0.97633</td>\n",
       "      <td>0.000708</td>\n",
       "      <td>0.005711</td>\n",
       "      <td>0.004568</td>\n",
       "      <td>0.006659</td>\n",
       "      <td>0.000114</td>\n",
       "      <td>0.000107</td>\n",
       "      <td>0.006705</td>\n",
       "      <td>0.004241</td>\n",
       "    </tr>\n",
       "  </tbody>\n",
       "</table>\n",
       "</div>"
      ],
      "text/plain": [
       "   time       MO3      MO4       MO5       MO6      MO11      MO12      MO13  \\\n",
       "0   0.0  0.976819  0.97633  0.000708  0.005711  0.004568  0.006659  0.000114   \n",
       "1   0.1  0.976819  0.97633  0.000708  0.005711  0.004568  0.006659  0.000114   \n",
       "2   0.2  0.976819  0.97633  0.000708  0.005711  0.004568  0.006659  0.000114   \n",
       "3   0.3  0.976819  0.97633  0.000708  0.005711  0.004568  0.006659  0.000114   \n",
       "4   0.4  0.976819  0.97633  0.000708  0.005711  0.004568  0.006659  0.000114   \n",
       "5   0.5  0.976819  0.97633  0.000708  0.005711  0.004568  0.006659  0.000114   \n",
       "6   0.6  0.976819  0.97633  0.000708  0.005711  0.004568  0.006659  0.000114   \n",
       "7   0.7  0.976819  0.97633  0.000708  0.005711  0.004568  0.006659  0.000114   \n",
       "8   0.8  0.976819  0.97633  0.000708  0.005711  0.004568  0.006659  0.000114   \n",
       "9   0.9  0.976819  0.97633  0.000708  0.005711  0.004568  0.006659  0.000114   \n",
       "\n",
       "       MO14      MO19      MO20  \n",
       "0  0.000107  0.006705  0.004241  \n",
       "1  0.000107  0.006705  0.004241  \n",
       "2  0.000107  0.006705  0.004241  \n",
       "3  0.000107  0.006705  0.004241  \n",
       "4  0.000107  0.006705  0.004241  \n",
       "5  0.000107  0.006705  0.004241  \n",
       "6  0.000107  0.006705  0.004241  \n",
       "7  0.000107  0.006705  0.004241  \n",
       "8  0.000107  0.006705  0.004241  \n",
       "9  0.000107  0.006705  0.004241  "
      ]
     },
     "execution_count": 15,
     "metadata": {},
     "output_type": "execute_result"
    }
   ],
   "source": [
    "# discard all columns with variance below a set threshold - we can consider them as constant\n",
    "low_variance_cols = []\n",
    "low_variance_threshold = 1e-6\n",
    "\n",
    "for col in df_npop.columns:\n",
    "    column = df_npop[col]\n",
    "    if (column.var() < low_variance_threshold):\n",
    "        low_variance_cols.append(column.name)\n",
    "        \n",
    "df_npop_no_low_variance_vals = df_npop.drop(columns=low_variance_cols)\n",
    "df_npop_no_low_variance_vals.head(10)"
   ]
  },
  {
   "cell_type": "markdown",
   "metadata": {},
   "source": [
    "Plot the remaining columns. Seaborn prefers \"long format\" (one column for all measurement values, one column to indicate the type) as input, whereas the cvs is in \"wide format\" (one column per measurement type)."
   ]
  },
  {
   "cell_type": "code",
   "execution_count": 16,
   "metadata": {},
   "outputs": [
    {
     "data": {
      "image/png": "[encoded data removed]",
      "text/plain": [
       "<Figure size 432x288 with 1 Axes>"
      ]
     },
     "metadata": {
      "needs_background": "light"
     },
     "output_type": "display_data"
    }
   ],
   "source": [
    "# plot ideally with seaborn\n",
    "sn.lineplot(x='time', y='value', hue='variable', \n",
    "             data=pd.melt(df_npop_no_low_variance_vals, ['time'])) \n",
    "# Unpivot a DataFrame from wide to long format, optionally leaving identifiers set.\n",
    "plt.show()"
   ]
  },
  {
   "cell_type": "markdown",
   "metadata": {},
   "source": [
    "## Quantify the pairwise correlation in the data\n",
    "\n",
    "- negative correlation: y values decrease for increasing x - large values of one feature correspond to small values of the other feature\n",
    "- weak or no correlation: no trend observable, association between two features is hardly observable\n",
    "- positive correlation: y values increase for decreasing x - small values of one feature correspond to small values of the other feature\n",
    "\n",
    "Remember that correlation does not indicate causation - the reason that two features are associated can lie in their dependence on same factors.\n",
    "\n",
    "Correlate the value pairs using Pearson's $r$. Pearson's $r$ is a measure of the linear relationship between features:\n",
    "\n",
    "$r = \\frac{\\sum_i(x_i − \\bar{x})(y_i − \\bar{y})}{\\sqrt{\\sum_i(x_i − \\bar{x})^2 \\sum_i(y_i − \\bar{y})^2}}$\n",
    "\n",
    "Here, $\\bar{x}$ and $\\bar{y}$ indicate mean values. $i$ runs over the whole data set. For a positive correlation, $r$ is positive, and negative for a negative correlation, with minimum and maximum values of -1 and 1, indicating a perfectly linear relationship. Weakly or not correlated features are characterized by $r$-values close to 0.\n",
    "\n",
    "Other measures of correlation that can be used are Spearman's rank (value pairs follow monotonic function) or Kendall's $\\tau$ (measures ordinal association), but they do not apply here. You can also define measures yourself."
   ]
  },
  {
   "cell_type": "code",
   "execution_count": 18,
   "metadata": {},
   "outputs": [
    {
     "name": "stdout",
     "output_type": "stream",
     "text": [
      "Correlation Matrix\n",
      "          time       MO3       MO4       MO5       MO6      MO11      MO12  \\\n",
      "time  1.000000 -0.714730 -0.740092  0.743195  0.753839  0.675510  0.633522   \n",
      "MO3  -0.714730  1.000000  0.926317 -0.939877 -0.907659 -0.966070 -0.818545   \n",
      "MO4  -0.740092  0.926317  1.000000 -0.902028 -0.964051 -0.844402 -0.782851   \n",
      "MO5   0.743195 -0.939877 -0.902028  1.000000  0.948240  0.880870  0.661812   \n",
      "MO6   0.753839 -0.907659 -0.964051  0.948240  1.000000  0.841446  0.699677   \n",
      "MO11  0.675510 -0.966070 -0.844402  0.880870  0.841446  1.000000  0.855583   \n",
      "MO12  0.633522 -0.818545 -0.782851  0.661812  0.699677  0.855583  1.000000   \n",
      "MO13  0.542182 -0.693899 -0.827863  0.626793  0.688966  0.561679  0.576447   \n",
      "MO14  0.412123 -0.590497 -0.726726  0.474882  0.538846  0.447701  0.514489   \n",
      "MO19  0.574105 -0.922622 -0.822057  0.821516  0.776518  0.846299  0.721802   \n",
      "MO20 -0.151590  0.072169 -0.033661 -0.146431 -0.057147 -0.160839  0.025860   \n",
      "\n",
      "          MO13      MO14      MO19      MO20  \n",
      "time  0.542182  0.412123  0.574105 -0.151590  \n",
      "MO3  -0.693899 -0.590497 -0.922622  0.072169  \n",
      "MO4  -0.827863 -0.726726 -0.822057 -0.033661  \n",
      "MO5   0.626793  0.474882  0.821516 -0.146431  \n",
      "MO6   0.688966  0.538846  0.776518 -0.057147  \n",
      "MO11  0.561679  0.447701  0.846299 -0.160839  \n",
      "MO12  0.576447  0.514489  0.721802  0.025860  \n",
      "MO13  1.000000  0.941180  0.615849  0.128776  \n",
      "MO14  0.941180  1.000000  0.592609  0.193889  \n",
      "MO19  0.615849  0.592609  1.000000  0.100944  \n",
      "MO20  0.128776  0.193889  0.100944  1.000000  \n"
     ]
    }
   ],
   "source": [
    "# print the correlation matrix\n",
    "print(\"Correlation Matrix\")\n",
    "print(df_npop_no_low_variance_vals.corr())"
   ]
  },
  {
   "cell_type": "markdown",
   "metadata": {},
   "source": [
    "The diagonal values tell us that each value is perfectly correlated with itself. We are not interested in the diagonal values and also not in the correlation with time. We also need to get rid of redundant entries. Finally, we need to find the value pairs that exhibit the highest linear correlation. We still want to know if it is positive or negative correlation, so we cannot get rid of the sign."
   ]
  },
  {
   "cell_type": "code",
   "execution_count": 83,
   "metadata": {},
   "outputs": [
    {
     "data": {
      "text/plain": [
       "MO3   MO11   -0.966070\n",
       "MO11  MO3    -0.966070\n",
       "MO6   MO4    -0.964051\n",
       "MO4   MO6    -0.964051\n",
       "MO5   MO6     0.948240\n",
       "                ...   \n",
       "MO6   MO20   -0.057147\n",
       "MO20  MO4    -0.033661\n",
       "MO4   MO20   -0.033661\n",
       "MO20  MO12    0.025860\n",
       "MO12  MO20    0.025860\n",
       "Length: 90, dtype: float64"
      ]
     },
     "metadata": {},
     "output_type": "display_data"
    }
   ],
   "source": [
    "# get rid of time column, lower triangular and diagonal entries of the correlation matrix\n",
    "df_npop_no_time = df_npop_no_low_variance_vals.drop(columns=['time'])\n",
    "unstacked_corr_matrix = df_npop_no_time.corr().unstack()\n",
    "rows_to_drop = []\n",
    "\n",
    "for i in range(0, len(unstacked_corr_matrix)):\n",
    "    item_labels = unstacked_corr_matrix.index[i]\n",
    "    if item_labels[0] == item_labels[1]:\n",
    "        rows_to_drop.append((item_labels[0], item_labels[1]))\n",
    "corr_matrix_without_self = unstacked_corr_matrix.drop(rows_to_drop)\n",
    "# print(corr_matrix_without_self)\n",
    "\n",
    "# sort the remaing values according to their absolute value, but keep the sign\n",
    "sorted_corr_matrix = corr_matrix_without_self.sort_values(ascending=False, key = lambda col: col.abs())\n",
    "display(sorted_corr_matrix)"
   ]
  },
  {
   "cell_type": "markdown",
   "metadata": {},
   "source": [
    "Note that the entries in the left column are not repeated if they do not change from the row above (so the fourth feature pair is MO3 and MO6)."
   ]
  },
  {
   "cell_type": "markdown",
   "metadata": {},
   "source": [
    "### Task 4: Print the resulting data to a file"
   ]
  },
  {
   "cell_type": "code",
   "execution_count": 87,
   "metadata": {},
   "outputs": [],
   "source": [
    "# write to file\n",
    "sorted_corr_matrix.to_csv(\"correlations.csv\", header=None)"
   ]
  },
  {
   "cell_type": "markdown",
   "metadata": {},
   "source": [
    "### Task 5: Calculate the Euclidean distance (L2 norm) for the vectors in `table.dat`\n",
    "\n",
    "\n",
    "The Euclidean distance measures the distance between to objects that are not points:\n",
    "\n",
    "$d(p,q) = \\sqrt{\\left(p-q\\right)^2}$\n",
    "\n",
    "In this case, consider each of the columns in table.dat as a vector in Euclidean space, where column $r(x)$ and column $v(x)$ denote a pair of vectors that should be compared, as well as $r(y)$ and $v(y)$, and r(z) and v(z).\n",
    "\n",
    "(Background: These are dipole moment components in different gauges, the length and velocity gauge.)"
   ]
  },
  {
   "cell_type": "code",
   "execution_count": null,
   "metadata": {},
   "outputs": [],
   "source": [
    "# read in table.dat - I suggest reading it as a numpy array\n",
    "# replace the NaNs by zero"
   ]
  },
  {
   "cell_type": "markdown",
   "metadata": {},
   "source": [
    "Now calculate how different the vectors in column 2 are from column 3, column 4 from column 5, and column 6 from column 7."
   ]
  },
  {
   "cell_type": "code",
   "execution_count": null,
   "metadata": {},
   "outputs": [],
   "source": [
    "# calculate the Euclidean distance"
   ]
  },
  {
   "cell_type": "code",
   "execution_count": null,
   "metadata": {},
   "outputs": [],
   "source": [
    "# plot the result and save to a .pdf"
   ]
  },
  {
   "cell_type": "code",
   "execution_count": null,
   "metadata": {},
   "outputs": [],
   "source": [
    "# print the result to a file"
   ]
  },
  {
   "cell_type": "markdown",
   "metadata": {},
   "source": [
    "# Numerical analysis\n",
    "\n",
    "Analyze the data using autocorrelation functions and discrete Fourier transforms. Plot your results."
   ]
  },
  {
   "cell_type": "code",
   "execution_count": null,
   "metadata": {},
   "outputs": [],
   "source": [
    "# define some global functions"
   ]
  },
  {
   "cell_type": "markdown",
   "metadata": {},
   "source": [
    "### Task 1: Read in `efield.t` and Fourier-transform relevant columns"
   ]
  },
  {
   "cell_type": "code",
   "execution_count": null,
   "metadata": {},
   "outputs": [],
   "source": [
    "# read and plot efield.t"
   ]
  },
  {
   "cell_type": "markdown",
   "metadata": {},
   "source": [
    "Here we are interested in column 2 since the others are constant."
   ]
  },
  {
   "cell_type": "code",
   "execution_count": null,
   "metadata": {},
   "outputs": [],
   "source": [
    "# discard the columns with variance below threshold - these are considered constant"
   ]
  },
  {
   "cell_type": "code",
   "execution_count": null,
   "metadata": {},
   "outputs": [],
   "source": [
    "# discrete Fourier transform of the remaining column: You only need the real frequencies"
   ]
  },
  {
   "cell_type": "markdown",
   "metadata": {},
   "source": [
    "### Task 2: Generate a plot of your results to be saved as pdf."
   ]
  },
  {
   "cell_type": "code",
   "execution_count": null,
   "metadata": {},
   "outputs": [],
   "source": [
    "# plot your results"
   ]
  },
  {
   "cell_type": "markdown",
   "metadata": {},
   "source": [
    "### Task 3: Calculate the autocorrelation function from nstate_i.t\n",
    "The autocorrelation function measures how correlated subsequent vectors are with an initial vector; ie. \n",
    "\n",
    "$\\Psi_{corr} = \\langle \\Psi(t=0) | \\Psi(t) \\rangle = \\int_0^{tfin} \\Psi(0)^* \\Psi(t) dt$\n",
    "\n",
    "Since we are in a numerical representation, the integral can be replaced with a sum; and the given vectors are already normalized."
   ]
  },
  {
   "cell_type": "code",
   "execution_count": null,
   "metadata": {},
   "outputs": [],
   "source": [
    "# read in as numpy array"
   ]
  },
  {
   "cell_type": "code",
   "execution_count": null,
   "metadata": {},
   "outputs": [],
   "source": [
    "# store the time column (column 0) in a vector and drop from array"
   ]
  },
  {
   "cell_type": "code",
   "execution_count": null,
   "metadata": {},
   "outputs": [],
   "source": [
    "# correct the data representation: this is in fact a complex matrix\n",
    "# the real part of each matrix column is contained in numpy array column 0, 2, 4, 6, ...\n",
    "# the imaginary part of each matrix column is contained in numpy array column 1, 3, 5, 7, ...\n",
    "# convert the array that was read as dtype=float into a dtype=complex array"
   ]
  },
  {
   "cell_type": "code",
   "execution_count": null,
   "metadata": {},
   "outputs": [],
   "source": [
    "# for the autocorrelation function, we want the overlap between the first vector at time 0 and all \n",
    "# subsequent vectors at later times - the sum of the product of initial and subsequent vectors for each time step"
   ]
  },
  {
   "cell_type": "markdown",
   "metadata": {},
   "source": [
    "### Task 4: Generate a plot of your results to be saved as pdf."
   ]
  },
  {
   "cell_type": "code",
   "execution_count": null,
   "metadata": {},
   "outputs": [],
   "source": [
    "# plot the autocorrelation function - real, imaginary and absolute part"
   ]
  },
  {
   "cell_type": "markdown",
   "metadata": {},
   "source": [
    "### Task 5: Discrete Fourier transform of the autocorrelation function"
   ]
  },
  {
   "cell_type": "code",
   "execution_count": null,
   "metadata": {},
   "outputs": [],
   "source": [
    "# discrete Fourier-transform the autocorrelation function - now we need all frequency components, \n",
    "# also the negative ones"
   ]
  },
  {
   "cell_type": "markdown",
   "metadata": {},
   "source": [
    "### Task 6: Generate a plot of your results to be saved as pdf."
   ]
  },
  {
   "cell_type": "code",
   "execution_count": null,
   "metadata": {},
   "outputs": [],
   "source": [
    "# plot the power spectrum (abs**2)"
   ]
  }
 ],
 "metadata": {
  "kernelspec": {
   "display_name": "Python 3 (ipykernel)",
   "language": "python",
   "name": "python3"
  },
  "language_info": {
   "codemirror_mode": {
    "name": "ipython",
    "version": 3
   },
   "file_extension": ".py",
   "mimetype": "text/x-python",
   "name": "python",
   "nbconvert_exporter": "python",
   "pygments_lexer": "ipython3",
   "version": "3.10.2"
  }
 },
 "nbformat": 4,
 "nbformat_minor": 4
}
